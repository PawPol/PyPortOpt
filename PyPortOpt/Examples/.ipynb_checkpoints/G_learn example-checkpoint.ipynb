{
 "cells": [
  {
   "cell_type": "code",
   "execution_count": 1,
   "id": "90fc4492",
   "metadata": {},
   "outputs": [
    {
     "ename": "ModuleNotFoundError",
     "evalue": "No module named 'PyPortOpt'",
     "output_type": "error",
     "traceback": [
      "\u001b[1;31m---------------------------------------------------------------------------\u001b[0m",
      "\u001b[1;31mModuleNotFoundError\u001b[0m                       Traceback (most recent call last)",
      "\u001b[1;32m<ipython-input-1-7f2f04be645a>\u001b[0m in \u001b[0;36m<module>\u001b[1;34m\u001b[0m\n\u001b[1;32m----> 1\u001b[1;33m \u001b[1;32mfrom\u001b[0m \u001b[0mPyPortOpt\u001b[0m \u001b[1;32mimport\u001b[0m \u001b[0mOptimizers\u001b[0m \u001b[1;32mas\u001b[0m \u001b[0mo\u001b[0m\u001b[1;33m\u001b[0m\u001b[1;33m\u001b[0m\u001b[0m\n\u001b[0m\u001b[0;32m      2\u001b[0m \u001b[1;32mimport\u001b[0m \u001b[0mnumpy\u001b[0m \u001b[1;32mas\u001b[0m \u001b[0mnp\u001b[0m\u001b[1;33m\u001b[0m\u001b[1;33m\u001b[0m\u001b[0m\n\u001b[0;32m      3\u001b[0m \u001b[1;32mimport\u001b[0m \u001b[0mos\u001b[0m\u001b[1;33m\u001b[0m\u001b[1;33m\u001b[0m\u001b[0m\n\u001b[0;32m      4\u001b[0m \u001b[1;32mimport\u001b[0m \u001b[0mpandas\u001b[0m \u001b[1;32mas\u001b[0m \u001b[0mpd\u001b[0m\u001b[1;33m\u001b[0m\u001b[1;33m\u001b[0m\u001b[0m\n\u001b[0;32m      5\u001b[0m \u001b[1;32mfrom\u001b[0m \u001b[0mpathlib\u001b[0m \u001b[1;32mimport\u001b[0m \u001b[0mPath\u001b[0m\u001b[1;33m\u001b[0m\u001b[1;33m\u001b[0m\u001b[0m\n",
      "\u001b[1;31mModuleNotFoundError\u001b[0m: No module named 'PyPortOpt'"
     ]
    }
   ],
   "source": [
    "from PyPortOpt import Optimizers as o\n",
    "import numpy as np\n",
    "import os\n",
    "import pandas as pd\n",
    "from pathlib import Path\n",
    "\n",
    "data_df = pd.read_parquet(str(Path(os.getcwd()).parent.parent)+\"/tests/index_data.parquet\")\n",
    "data_df = data_df.dropna(axis=0, how='all').dropna(axis=1, how='any').iloc[:, :10]\n",
    "logret = o.preprocessData(data_df)[-1]\n",
    "logret = logret/100"
   ]
  },
  {
   "cell_type": "code",
   "execution_count": null,
   "id": "9bba56f8",
   "metadata": {},
   "outputs": [],
   "source": [
    "n = data_df.shape[0]\n",
    "d = 21  # Rebalance time\n",
    "window_size = 21*3  # Window size to estimate return\n",
    "start = window_size  # Time to start investment\n",
    "model_steps = 3  # The RL model steps is 3 (in month). After 3 months, we define a new RL model\n",
    "currentWealth = 1000  # Initial cash"
   ]
  },
  {
   "cell_type": "code",
   "execution_count": null,
   "id": "a21e3319",
   "metadata": {},
   "outputs": [],
   "source": [
    "for rebalCount, i in enumerate(range(start, start+2*model_steps*d, d)):\n",
    "    window = logret[i-window_size:i].copy()\n",
    "    logret_window = window.values\n",
    "    sigMat = np.cov(logret_window, rowvar=False)\n",
    "    meanVec = np.mean(logret_window, axis=0)\n",
    "\n",
    "    if i == start:\n",
    "        g_learner = o.g_learn(\n",
    "            num_steps=model_steps, num_risky_assets=logret.shape[1],\n",
    "            x_vals_init=currentWealth*np.ones(logret.shape[1]) / logret.shape[1]\n",
    "        )\n",
    "\n",
    "    # w_sample, g_learner = o.g_learn_rolling(\n",
    "    #     t=int((i-start)/d % g_learner.num_steps), g_learner=g_learner,\n",
    "    #     exp_returns=meanVec*d, sigma=sigMat*d,\n",
    "    #     returns=logret.iloc[i:i+d].sum(axis=0).values\n",
    "    # )\n",
    "\n",
    "    t = int((i-start)/d % g_learner.num_steps)  # t = 0,1,2,...,11 when model_steps = 12\n",
    "    returns = logret.iloc[i:i+d].sum(axis=0).values\n",
    "    print(f\"Information of {rebalCount} on day {i}:\")\n",
    "    print(f\"We are at the {t+1} step of the model.\")\n",
    "    \n",
    "    if t == 0:\n",
    "        g_learner.update_before_step_1(t)  # only when t=0\n",
    "        # Initial cash assigned to each asset\n",
    "        print(\"Initial cash assigned to each asset\")\n",
    "        print(g_learner.x_vals_init)\n",
    "        # Initial value of portfolio-independent benchmark\n",
    "        print(\"Initial value of portfolio-independent benchmark\")\n",
    "        print(g_learner.benchmark_portf)\n",
    "    \n",
    "    # Cash for each asset now\n",
    "    print(\"Cash for each asset now\")\n",
    "    print(g_learner.x_t)\n",
    "\n",
    "    w_sample = g_learner.run(t, meanVec*d, sigMat*d)\n",
    "    # Cash change (action) for each asset\n",
    "    print(\"Cash change (action) for each asset\")\n",
    "    print(g_learner.u_t)\n",
    "    # Cash for each asset after action\n",
    "    print(\"Cash for each asset after action\")\n",
    "    print(g_learner.x_next)\n",
    "    # Portfolio weight\n",
    "    print(\"Portfolio weight\")\n",
    "    print(w_sample)\n",
    "\n",
    "    g_learner.update(t, returns)\n",
    "    # Actual cash for each asset after d days\n",
    "    print(f\"Actual cash for each asset after {d} days\")\n",
    "    print(g_learner.x_t)\n",
    "    # Trajectory of the model\n",
    "    print(\"Trajectory of the model\")\n",
    "    print(g_learner.trajs)\n",
    "    # Trajectory of rolling model\n",
    "    print(\"Trajectory of rolling model\")\n",
    "    print(g_learner.trajs_all)"
   ]
  },
  {
   "cell_type": "code",
   "execution_count": null,
   "id": "a96c406f",
   "metadata": {},
   "outputs": [],
   "source": []
  }
 ],
 "metadata": {
  "kernelspec": {
   "display_name": "Python 3",
   "language": "python",
   "name": "python3"
  },
  "language_info": {
   "codemirror_mode": {
    "name": "ipython",
    "version": 3
   },
   "file_extension": ".py",
   "mimetype": "text/x-python",
   "name": "python",
   "nbconvert_exporter": "python",
   "pygments_lexer": "ipython3",
   "version": "3.8.8"
  }
 },
 "nbformat": 4,
 "nbformat_minor": 5
}
